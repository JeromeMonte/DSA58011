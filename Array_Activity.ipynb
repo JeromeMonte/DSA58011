{
  "nbformat": 4,
  "nbformat_minor": 0,
  "metadata": {
    "colab": {
      "provenance": [],
      "authorship_tag": "ABX9TyODV543i3pklmZkxOtHOrIx",
      "include_colab_link": true
    },
    "kernelspec": {
      "name": "python3",
      "display_name": "Python 3"
    },
    "language_info": {
      "name": "python"
    }
  },
  "cells": [
    {
      "cell_type": "markdown",
      "metadata": {
        "id": "view-in-github",
        "colab_type": "text"
      },
      "source": [
        "<a href=\"https://colab.research.google.com/github/momonts/DSA58011/blob/main/Array_Activity.ipynb\" target=\"_parent\"><img src=\"https://colab.research.google.com/assets/colab-badge.svg\" alt=\"Open In Colab\"/></a>"
      ]
    },
    {
      "cell_type": "markdown",
      "source": [
        "Number 1: Write a Python program to create an array of 10 integers and display the array items. Access individual elements through indexes and compute for the sum."
      ],
      "metadata": {
        "id": "bcvegQPQfT7j"
      }
    },
    {
      "cell_type": "code",
      "execution_count": 24,
      "metadata": {
        "colab": {
          "base_uri": "https://localhost:8080/"
        },
        "id": "GT5IlT8BaMVK",
        "outputId": "cff70feb-f2e1-48cd-fdf7-94f7d8db8bac"
      },
      "outputs": [
        {
          "output_type": "stream",
          "name": "stdout",
          "text": [
            "Sum =  55\n"
          ]
        }
      ],
      "source": [
        "def _sum(integers):\n",
        "  sum = 0\n",
        "\n",
        "  for i in integers:\n",
        "    sum = sum + i\n",
        "    \n",
        "  return(sum)\n",
        "\n",
        "integers = [1, 2, 3, 4, 5, 6, 7, 8, 9, 10]\n",
        "\n",
        "n = len(integers)\n",
        "\n",
        "ans = _sum(integers)\n",
        "print('Sum = ',ans)\n"
      ]
    },
    {
      "cell_type": "markdown",
      "source": [
        "Write a Python program to append a new item to the end of the array. Original array: numbers = [1, 2, 3, 4, 5, 6, 7, 8, 9, 10]"
      ],
      "metadata": {
        "id": "xF-RErJ8fYQt"
      }
    },
    {
      "cell_type": "code",
      "source": [
        "integers = [1, 2, 3, 4, 5, 6, 7, 8, 9, 10]\n",
        "\n",
        "print('original numbers: ',integers)\n",
        "\n",
        "x = input(\"append new number: \")\n",
        "integers.append(x)\n",
        "\n",
        "print('new numbers: ',integers)"
      ],
      "metadata": {
        "colab": {
          "base_uri": "https://localhost:8080/"
        },
        "id": "Wyj32xoyfTgu",
        "outputId": "f40a361d-d169-4b92-99ef-1a59b1ab0fe8"
      },
      "execution_count": 26,
      "outputs": [
        {
          "output_type": "stream",
          "name": "stdout",
          "text": [
            "original numbers:  [1, 2, 3, 4, 5, 6, 7, 8, 9, 10]\n",
            "append new number: 11\n",
            "new numbers:  [1, 2, 3, 4, 5, 6, 7, 8, 9, 10, '11']\n"
          ]
        }
      ]
    },
    {
      "cell_type": "markdown",
      "source": [
        "Write a Python program to insert a new item before the second element in an existing array. Original array: numbers = [1, 2, 3, 4, 5, 6, 7, 8, 9, 10]"
      ],
      "metadata": {
        "id": "01RPeMfEgqhF"
      }
    },
    {
      "cell_type": "code",
      "source": [
        "integers = [1, 2, 3, 4, 5, 6, 7, 8, 9, 10]\n",
        "\n",
        "print('original numbers: ',integers)\n",
        "\n",
        "x = input(\"insert new number: \")\n",
        "integers.insert(1,x)\n",
        "\n",
        "print('new numbers: ',integers)"
      ],
      "metadata": {
        "colab": {
          "base_uri": "https://localhost:8080/"
        },
        "id": "SEFcowQggqLb",
        "outputId": "d752e15a-97cf-421a-fdba-8a14e0a3befa"
      },
      "execution_count": 28,
      "outputs": [
        {
          "output_type": "stream",
          "name": "stdout",
          "text": [
            "original numbers:  [1, 2, 3, 4, 5, 6, 7, 8, 9, 10]\n",
            "insert new number: 6\n",
            "new numbers:  [1, '6', 2, 3, 4, 5, 6, 7, 8, 9, 10]\n"
          ]
        }
      ]
    },
    {
      "cell_type": "markdown",
      "source": [
        "Write a Python program to reverse the order of the items in the array.Original array: numbers = [5, 4, 3, 2, 1]"
      ],
      "metadata": {
        "id": "ii04fwwzhWV3"
      }
    },
    {
      "cell_type": "code",
      "source": [
        "integers = [5, 4, 3, 2, 1]\n",
        "print(\"original numbers: \",integers)\n",
        " \n",
        "integers.reverse()\n",
        "print(\"new numbers:\",integers)"
      ],
      "metadata": {
        "colab": {
          "base_uri": "https://localhost:8080/"
        },
        "id": "uxBzPXorhYpn",
        "outputId": "c46ff3ec-a518-4976-addc-99e1e2513d06"
      },
      "execution_count": 29,
      "outputs": [
        {
          "output_type": "stream",
          "name": "stdout",
          "text": [
            "original numbers:  [5, 4, 3, 2, 1]\n",
            "new numbers: [1, 2, 3, 4, 5]\n"
          ]
        }
      ]
    },
    {
      "cell_type": "markdown",
      "source": [
        "Write a Python program to get the length of the array. Original array: numbers = [5, 4, 3, 2, 1]"
      ],
      "metadata": {
        "id": "FnJf2Kt_hvbm"
      }
    },
    {
      "cell_type": "code",
      "source": [
        "integers = [5, 4, 3, 2, 1]\n",
        "\n",
        "print(\"length of the array is: \",len(integers))"
      ],
      "metadata": {
        "colab": {
          "base_uri": "https://localhost:8080/"
        },
        "id": "unzPOTWihxWB",
        "outputId": "e57bdfed-42b2-4d0b-8c7b-22fe9e6e5af9"
      },
      "execution_count": 30,
      "outputs": [
        {
          "output_type": "stream",
          "name": "stdout",
          "text": [
            "length of the array is:  5\n"
          ]
        }
      ]
    }
  ]
}
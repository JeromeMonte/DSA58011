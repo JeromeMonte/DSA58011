{
  "nbformat": 4,
  "nbformat_minor": 0,
  "metadata": {
    "colab": {
      "provenance": [],
      "authorship_tag": "ABX9TyPSPygkZK9UgIpnKGVX0Ex3",
      "include_colab_link": true
    },
    "kernelspec": {
      "name": "python3",
      "display_name": "Python 3"
    },
    "language_info": {
      "name": "python"
    }
  },
  "cells": [
    {
      "cell_type": "markdown",
      "metadata": {
        "id": "view-in-github",
        "colab_type": "text"
      },
      "source": [
        "<a href=\"https://colab.research.google.com/github/momonts/DSA58011/blob/main/Activity_2.ipynb\" target=\"_parent\"><img src=\"https://colab.research.google.com/assets/colab-badge.svg\" alt=\"Open In Colab\"/></a>"
      ]
    },
    {
      "cell_type": "code",
      "execution_count": 6,
      "metadata": {
        "colab": {
          "base_uri": "https://localhost:8080/"
        },
        "id": "_OSTzlKTUC0V",
        "outputId": "68e93f20-f530-4201-c9d8-723e13117507"
      },
      "outputs": [
        {
          "output_type": "stream",
          "name": "stdout",
          "text": [
            "A\n",
            "E\n",
            "I\n",
            "O\n",
            "U\n",
            "\n",
            "head.data:  A\n",
            "tail.data:  U\n"
          ]
        }
      ],
      "source": [
        "class Node:\n",
        "    \n",
        "    def __init__(self, data=None):\n",
        "        self.data = data\n",
        "        self.next = None\n",
        "\n",
        "\n",
        "class vowel_list:\n",
        "\n",
        "    def __init__(self):\n",
        "\n",
        "        self.head = None\n",
        "        self.tail = None\n",
        "        self.count = 0\n",
        "\n",
        "\n",
        "    def iterate_item(self):\n",
        "\n",
        "        current_item = self.head\n",
        "        while current_item:\n",
        "            val = current_item.data\n",
        "            current_item = current_item.next\n",
        "            yield val\n",
        "\n",
        "\n",
        "    def append_item(self, data):\n",
        "\n",
        "        vowels = Node(data)\n",
        "        if self.tail:\n",
        "            self.tail.next = vowels\n",
        "            self.tail = vowels\n",
        "        else:\n",
        "            self.head = vowels\n",
        "            self.tail = vowels\n",
        "        self.count += 1\n",
        "\n",
        "\n",
        "items = vowel_list()\n",
        "items.append_item('A')\n",
        "items.append_item('E')\n",
        "items.append_item('I')\n",
        "items.append_item('O')\n",
        "items.append_item('U')\n",
        "\n",
        "for val in items.iterate_item():\n",
        "    print(val)\n",
        "\n",
        "print(\"\\nhead.data: \",items.head.data)\n",
        "print(\"tail.data: \",items.tail.data)"
      ]
    }
  ]
}
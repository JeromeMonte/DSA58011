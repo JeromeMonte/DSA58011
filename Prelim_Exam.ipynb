{
  "nbformat": 4,
  "nbformat_minor": 0,
  "metadata": {
    "colab": {
      "provenance": [],
      "authorship_tag": "ABX9TyN0XRQrGHhZtoRtRies/lRn",
      "include_colab_link": true
    },
    "kernelspec": {
      "name": "python3",
      "display_name": "Python 3"
    },
    "language_info": {
      "name": "python"
    }
  },
  "cells": [
    {
      "cell_type": "markdown",
      "metadata": {
        "id": "view-in-github",
        "colab_type": "text"
      },
      "source": [
        "<a href=\"https://colab.research.google.com/github/momonts/DSA58011/blob/main/Prelim_Exam.ipynb\" target=\"_parent\"><img src=\"https://colab.research.google.com/assets/colab-badge.svg\" alt=\"Open In Colab\"/></a>"
      ]
    },
    {
      "cell_type": "code",
      "execution_count": 22,
      "metadata": {
        "colab": {
          "base_uri": "https://localhost:8080/"
        },
        "id": "naxXJTkKZs1g",
        "outputId": "54c72c1c-b660-47d4-84a9-687759367d18"
      },
      "outputs": [
        {
          "output_type": "stream",
          "name": "stdout",
          "text": [
            "Composite numbers less than 10 but greater than 1:  [4, 6, 8, 9]\n",
            "Composite numbers:  4\n"
          ]
        }
      ],
      "source": [
        "num=[1,2,3,4,5,6,7,8,9,10]\n",
        "\n",
        "num.pop(9)\n",
        "num.pop(6)\n",
        "num.pop(4)\n",
        "num.pop(2)\n",
        "num.pop(1)\n",
        "num.pop(0)\n",
        "\n",
        "print(\"Composite numbers less than 10 but greater than 1: \", num)\n",
        "print(\"Composite numbers: \", len(num))\n"
      ]
    }
  ]
}
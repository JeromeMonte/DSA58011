{
  "nbformat": 4,
  "nbformat_minor": 0,
  "metadata": {
    "colab": {
      "name": "Pre-testipynb",
      "provenance": [],
      "authorship_tag": "ABX9TyOtpGBUzDkFEcQeFp1LQZkT",
      "include_colab_link": true
    },
    "kernelspec": {
      "name": "python3",
      "display_name": "Python 3"
    },
    "language_info": {
      "name": "python"
    }
  },
  "cells": [
    {
      "cell_type": "markdown",
      "metadata": {
        "id": "view-in-github",
        "colab_type": "text"
      },
      "source": [
        "<a href=\"https://colab.research.google.com/github/momonts/DSA58011/blob/main/Pre_testipynb.ipynb\" target=\"_parent\"><img src=\"https://colab.research.google.com/assets/colab-badge.svg\" alt=\"Open In Colab\"/></a>"
      ]
    },
    {
      "cell_type": "code",
      "execution_count": null,
      "metadata": {
        "id": "G32VMscWZeoU"
      },
      "outputs": [],
      "source": [
        "clas Recatangle:\n",
        "def __init__(self,length,width):\n",
        "  self.length = length\n",
        "  self.width = width\n",
        "\n",
        "def Area(self):\n",
        "  print(self.length * self.width)\n",
        "\n",
        "rect = Rectangle(7, 3)\n",
        "rect.Area()"
      ]
    }
  ]
}
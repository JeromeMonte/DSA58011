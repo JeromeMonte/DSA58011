{
  "nbformat": 4,
  "nbformat_minor": 0,
  "metadata": {
    "colab": {
      "name": "Practical Lab Exam",
      "provenance": [],
      "authorship_tag": "ABX9TyNhtKxgM0Unxg2roYIRQwbA",
      "include_colab_link": true
    },
    "kernelspec": {
      "name": "python3",
      "display_name": "Python 3"
    },
    "language_info": {
      "name": "python"
    }
  },
  "cells": [
    {
      "cell_type": "markdown",
      "metadata": {
        "id": "view-in-github",
        "colab_type": "text"
      },
      "source": [
        "<a href=\"https://colab.research.google.com/github/momonts/DSA58011/blob/main/Practical_Lab_Exam.ipynb\" target=\"_parent\"><img src=\"https://colab.research.google.com/assets/colab-badge.svg\" alt=\"Open In Colab\"/></a>"
      ]
    },
    {
      "cell_type": "code",
      "execution_count": 26,
      "metadata": {
        "colab": {
          "base_uri": "https://localhost:8080/"
        },
        "id": "7UFM57YifVex",
        "outputId": "7687f302-1bab-42a9-b5f3-3eedc86a6d2f"
      },
      "outputs": [
        {
          "output_type": "stream",
          "name": "stdout",
          "text": [
            "<built-in method format of str object at 0x7f3f3c66fab0>\n"
          ]
        }
      ],
      "source": [
        "test_scores = [26,49,98,87,62,75]\n",
        "Oddtotal = 0\n",
        "\n",
        "for number in test_scores:\n",
        "    if(number % 2 != 0):\n",
        "        Oddtotal = Oddtotal + number\n",
        "\n",
        "print(\"The Sum of Odd Test Scores = {1}\".format(number, Oddtotal)) "
      ]
    }
  ]
}
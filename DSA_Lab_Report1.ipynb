{
  "nbformat": 4,
  "nbformat_minor": 0,
  "metadata": {
    "colab": {
      "provenance": [],
      "authorship_tag": "ABX9TyOWzjR3vRaZG/U0BvnOIu27",
      "include_colab_link": true
    },
    "kernelspec": {
      "name": "python3",
      "display_name": "Python 3"
    },
    "language_info": {
      "name": "python"
    }
  },
  "cells": [
    {
      "cell_type": "markdown",
      "metadata": {
        "id": "view-in-github",
        "colab_type": "text"
      },
      "source": [
        "<a href=\"https://colab.research.google.com/github/momonts/DSA58011/blob/main/DSA_Lab_Report1.ipynb\" target=\"_parent\"><img src=\"https://colab.research.google.com/assets/colab-badge.svg\" alt=\"Open In Colab\"/></a>"
      ]
    },
    {
      "cell_type": "code",
      "execution_count": 12,
      "metadata": {
        "colab": {
          "base_uri": "https://localhost:8080/"
        },
        "id": "lEqiUxGdc76j",
        "outputId": "07710996-3051-4580-9b8c-f74c7cea6047"
      },
      "outputs": [
        {
          "output_type": "stream",
          "name": "stdout",
          "text": [
            "Choose [1] or [2]\n",
            "\n",
            "[1]Square\n",
            "[2]Triangle\n",
            "\n",
            "Input : 1\n",
            "\n",
            "\n",
            "Input LENGTH and WIDTH\n",
            "\n",
            "Length : 2\n",
            "Width : 3\n",
            "\n",
            "shape: square\n",
            "sides: 4\n",
            "area: 6.0\n"
          ]
        }
      ],
      "source": [
        "class Polygon:\n",
        "\n",
        "  def __init__(self):\n",
        "    self.shape = \" \"\n",
        "    self.sides = 0\n",
        "    self.area = 0.0\n",
        "\n",
        "  def poly(self):\n",
        "    while(True):\n",
        "      poly = int(input(\"Choose [1] or [2]\\n\\n[1]Square\\n[2]Triangle\\n\\nInput : \"))\n",
        "\n",
        "      if poly == 1:\n",
        "        self.shape = \"square\"\n",
        "        self.sides = 4\n",
        "\n",
        "        print(\"\\n\\nInput LENGTH and WIDTH\\n\")\n",
        "        length = float(input(\"Length : \"))\n",
        "        width = float(input(\"Width : \"))\n",
        "\n",
        "        self.area = length*width\n",
        "        break\n",
        "      \n",
        "      elif poly == 2:\n",
        "        self.shape = \"triangle\"\n",
        "        self.sides = 3\n",
        "\n",
        "        base = float(input(\"\\nbase? \"))\n",
        "        height = float(input(\"height? \"))\n",
        "        \n",
        "        self.area = 1/2*(base*height)\n",
        "        break\n",
        "\n",
        "      else:\n",
        "        continue\n",
        "\n",
        "  def info(self):\n",
        "    print(f\"\\nshape: {self.shape}\"\n",
        "          f\"\\nsides: {self.sides}\"\n",
        "          f\"\\narea: {self.area}\")\n",
        "          \n",
        "type = Polygon()\n",
        "type.poly()\n",
        "type.info()"
      ]
    }
  ]
}
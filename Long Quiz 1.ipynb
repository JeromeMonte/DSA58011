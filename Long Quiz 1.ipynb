{
  "nbformat": 4,
  "nbformat_minor": 0,
  "metadata": {
    "colab": {
      "provenance": [],
      "authorship_tag": "ABX9TyNFFi0WcO7FjZB4fWeZQDs/",
      "include_colab_link": true
    },
    "kernelspec": {
      "name": "python3",
      "display_name": "Python 3"
    },
    "language_info": {
      "name": "python"
    }
  },
  "cells": [
    {
      "cell_type": "markdown",
      "metadata": {
        "id": "view-in-github",
        "colab_type": "text"
      },
      "source": [
        "<a href=\"https://colab.research.google.com/github/momonts/DSA58011/blob/main/Quiz.ipynb\" target=\"_parent\"><img src=\"https://colab.research.google.com/assets/colab-badge.svg\" alt=\"Open In Colab\"/></a>"
      ]
    },
    {
      "cell_type": "code",
      "execution_count": null,
      "metadata": {
        "colab": {
          "base_uri": "https://localhost:8080/"
        },
        "id": "gZ20nqZE4fuE",
        "outputId": "ad4cd954-cb23-44b3-c78e-7c6bb676470d"
      },
      "outputs": [
        {
          "output_type": "stream",
          "name": "stdout",
          "text": [
            "Full name:  Jerome P. Monte\n",
            "The number of vowels:  5\n",
            "The vowels:  ['e', 'o', 'e', 'o', 'e']\n"
          ]
        }
      ],
      "source": [
        "def vow(name, vowels):\n",
        "    final = [each for each in name if each in vowels]\n",
        "    print(\"Full name: \", name)\n",
        "    print(\"Number of vowels: \", len(final))\n",
        "    print(\"Vowels: \", final)\n",
        "     \n",
        "name = \"Jerome P. Monte\"\n",
        "vowels = \"AaEeIiOoUu\"\n",
        "vow(name, vowels);"
      ]
    }
  ]
}
